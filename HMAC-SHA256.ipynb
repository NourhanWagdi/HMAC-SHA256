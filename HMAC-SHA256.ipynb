{
  "nbformat": 4,
  "nbformat_minor": 0,
  "metadata": {
    "colab": {
      "name": "Assign_4_Cryptography_Question1.ipynb",
      "provenance": [],
      "collapsed_sections": []
    },
    "kernelspec": {
      "name": "python3",
      "display_name": "Python 3"
    },
    "language_info": {
      "name": "python"
    }
  },
  "cells": [
    {
      "cell_type": "markdown",
      "metadata": {
        "id": "hPePv_izCNs1"
      },
      "source": [
        "##HMAC-SHA256 implementation"
      ]
    },
    {
      "cell_type": "code",
      "metadata": {
        "id": "dTW8KD4Uun0o"
      },
      "source": [
        "import hashlib\n",
        "import random\n",
        "import os"
      ],
      "execution_count": null,
      "outputs": []
    },
    {
      "cell_type": "code",
      "metadata": {
        "id": "PvWH6Kuh9kxH"
      },
      "source": [
        "def Hash_func(message):\n",
        "  hash = hashlib.sha256(message)\n",
        "  hash = hash.digest()\n",
        "  return hash"
      ],
      "execution_count": null,
      "outputs": []
    },
    {
      "cell_type": "code",
      "metadata": {
        "id": "L62lQX5_xRp5"
      },
      "source": [
        "def XOR(operand1, operand2):\n",
        "  return bytes([x ^ y for x, y in zip(operand1, operand2)])"
      ],
      "execution_count": null,
      "outputs": []
    },
    {
      "cell_type": "code",
      "metadata": {
        "id": "aqM0HNZ-xQd7"
      },
      "source": [
        "M = \"This is an input string to be used for testing an implementation of HMAC-SHA-256.\"\n",
        "M = M.encode('utf-8')\n",
        "K = 'cylasdfgdhjklvqfoheiirrduvtb7945yhfsiwjfzytboNOURHANWAGDIhmackey'\n",
        "K = K.encode('utf-8')"
      ],
      "execution_count": null,
      "outputs": []
    },
    {
      "cell_type": "code",
      "metadata": {
        "id": "p8jOJFNN0XY4"
      },
      "source": [
        "ipad = bytes([54 for _ in range(64)])\n",
        "opad = bytes([92 for _ in range(64)])\n",
        "\n",
        "part1 = XOR(K, ipad)\n",
        "h1 = part1 + M\n",
        "hash1 = Hash_func(h1)\n",
        "part2 = XOR(K, opad)\n",
        "h2 = part2 + hash1\n",
        "Final_h = Hash_func(h2)"
      ],
      "execution_count": null,
      "outputs": []
    },
    {
      "cell_type": "markdown",
      "metadata": {
        "id": "RyusJ5oJCLOF"
      },
      "source": [
        "##Confirmation\n",
        "\n"
      ]
    },
    {
      "cell_type": "code",
      "metadata": {
        "id": "VCXiMWM-2zsw"
      },
      "source": [
        "import hmac\n",
        "import hashlib"
      ],
      "execution_count": null,
      "outputs": []
    },
    {
      "cell_type": "code",
      "metadata": {
        "id": "8vh2iIsy3Q1v"
      },
      "source": [
        "hashing_algorithm = hashlib.sha256\n",
        "h = hmac.new(K, M, hashing_algorithm)"
      ],
      "execution_count": null,
      "outputs": []
    },
    {
      "cell_type": "code",
      "metadata": {
        "id": "qA6QjTF2pur4",
        "colab": {
          "base_uri": "https://localhost:8080/"
        },
        "outputId": "3bd676b3-aa70-46d3-d1ed-7084667228e7"
      },
      "source": [
        "if h.digest() == Final_h:\n",
        "  print(\"Calculated HMAC Hash:                \", Final_h ,\n",
        "        \"\\nHash Using HMAC built-in library:    \", h.digest(), \"\\nTwo hashes are equal!\")\n",
        "else: print('Hashes do not match :(')"
      ],
      "execution_count": null,
      "outputs": [
        {
          "output_type": "stream",
          "name": "stdout",
          "text": [
            "Calculated HMAC Hash:                 b'\\xdb\\xb6)\\xd3\\x05\\xe0K\\xb7\\xe5\\xf2\\x18\\xeb\\xa7Z\\xa9h\\xb7<*O\\x8dg\\xcb0`{r\\xc4\\x85)Kt' \n",
            "Hash Using HMAC built-in library:     b'\\xdb\\xb6)\\xd3\\x05\\xe0K\\xb7\\xe5\\xf2\\x18\\xeb\\xa7Z\\xa9h\\xb7<*O\\x8dg\\xcb0`{r\\xc4\\x85)Kt' \n",
            "Two hashes are equal!\n"
          ]
        }
      ]
    }
  ]
}